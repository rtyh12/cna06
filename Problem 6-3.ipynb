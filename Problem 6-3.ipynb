{
 "cells": [
  {
   "cell_type": "markdown",
   "metadata": {},
   "source": [
    "# Problem 6-3: Degree Correlations and Assortativity\n",
    "Submission from Maria Kagkeli, Maria Regina Lily, Mihai Verzan"
   ]
  },
  {
   "cell_type": "code",
   "execution_count": 1,
   "metadata": {},
   "outputs": [],
   "source": [
    "import igraph as ig\n",
    "import os\n",
    "import sys"
   ]
  },
  {
   "cell_type": "code",
   "execution_count": 2,
   "metadata": {},
   "outputs": [],
   "source": [
    "def process_and_open(name):\n",
    "    with open('data/' + name + '.txt') as file:\n",
    "        lines = file.readlines()[2:]\n",
    "        out = open('data/' + name + '_o.txt', 'w')\n",
    "        for l in lines:\n",
    "            out.write(l)\n",
    "\n",
    "    G = ig.Graph.Read_Ncol('data/' + name + '_o.txt', directed=False)\n",
    "    #file.close()\n",
    "    #os.remove('data/' + name + '_o.txt')\n",
    "    return G"
   ]
  },
  {
   "cell_type": "code",
   "execution_count": 3,
   "metadata": {},
   "outputs": [],
   "source": [
    "adolescent = process_and_open('adolescent_health_network').simplify()\n",
    "jdk = ig.Graph.Read_Ncol('data/JDK_dependency_network.txt').simplify()\n",
    "openflights = process_and_open('openflights_network').simplify()\n",
    "\n",
    "# so we can do the same thing to all graphs without having to duplicate code\n",
    "graphs = [adolescent, jdk, openflights]"
   ]
  },
  {
   "cell_type": "markdown",
   "metadata": {},
   "source": [
    "#### number of nodes and edges"
   ]
  },
  {
   "cell_type": "code",
   "execution_count": 5,
   "metadata": {},
   "outputs": [],
   "source": [
    "def varname(a):\n",
    "    return [k for k, v in locals().items() if v == a][0]"
   ]
  },
  {
   "cell_type": "code",
   "execution_count": 7,
   "metadata": {},
   "outputs": [
    {
     "name": "stdout",
     "output_type": "stream",
     "text": [
      "adolescent :  2530 vertices, 10026 edges\n",
      "jdk :  6424 vertices, 53821 edges\n",
      "openflights :  2911 vertices, 15593 edges\n"
     ]
    }
   ],
   "source": [
    "for g in graphs:\n",
    "    print(\n",
    "        [k for k,v in locals().items() if v == g][0], \": \",  # the long mess gets the variable name\n",
    "        g.vcount(), 'vertices,', g.ecount(), 'edges')"
   ]
  },
  {
   "cell_type": "code",
   "execution_count": 9,
   "metadata": {
    "scrolled": false
   },
   "outputs": [
    {
     "name": "stdout",
     "output_type": "stream",
     "text": [
      "0     7.247058823529412\n",
      "1     7.830708661417323\n",
      "2     8.036093418259018\n",
      "3     8.32888349514563\n",
      "4     8.553424657534245\n",
      "5     8.870778267254039\n",
      "6     9.393598103141663\n",
      "7     9.509414225941423\n",
      "8     10.154348919054808\n",
      "9     10.334659090909094\n",
      "10     10.820887445887447\n",
      "11     10.96834625322997\n",
      "12     10.93949870354365\n",
      "13     11.53448275862069\n",
      "14     10.97654320987654\n",
      "15     11.635416666666666\n",
      "16     12.069716775599128\n",
      "17     11.565656565656566\n",
      "18     11.331983805668017\n",
      "19     13.16\n",
      "20     12.61904761904762\n",
      "21     11.89090909090909\n",
      "22     12.282608695652174\n",
      "23     13.229166666666666\n",
      "24     12.92\n",
      "25     nan\n",
      "26     14.277777777777779\n"
     ]
    }
   ],
   "source": [
    "for i in range(len(adolescent.knn()[1])):\n",
    "    print(i, \"   \", adolescent.knn()[1][i])"
   ]
  },
  {
   "cell_type": "code",
   "execution_count": 10,
   "metadata": {},
   "outputs": [],
   "source": [
    "import numpy as np"
   ]
  },
  {
   "cell_type": "code",
   "execution_count": 11,
   "metadata": {},
   "outputs": [],
   "source": [
    "def assortativity_matrix(g):\n",
    "    deg_max = max(g.degree())\n",
    "    E = np.zeros((deg_max, deg_max))\n",
    "    \n",
    "    for v in g.vs:\n",
    "        for n in g.neighbors(v['name']):\n",
    "            E[g.degree(v['name']) - 1, g.degree(n) - 1] += 1\n",
    "    \n",
    "    E /= np.sum(E)\n",
    "    \n",
    "    return E"
   ]
  },
  {
   "cell_type": "code",
   "execution_count": 28,
   "metadata": {},
   "outputs": [],
   "source": [
    "E = [assortativity_matrix(g) for g in graphs]"
   ]
  },
  {
   "cell_type": "code",
   "execution_count": 30,
   "metadata": {},
   "outputs": [
    {
     "data": {
      "image/png": "[encoded data removed]",
      "text/plain": [
       "<Figure size 460.8x403.2 with 2 Axes>"
      ]
     },
     "metadata": {},
     "output_type": "display_data"
    }
   ],
   "source": [
    "import seaborn as sns\n",
    "import matplotlib.pylab as plt\n",
    "\n",
    "from jupyterthemes import jtplot\n",
    "jtplot.style()\n",
    "\n",
    "ax = sns.heatmap(E[1], linewidth=0)\n",
    "plt.show()"
   ]
  },
  {
   "cell_type": "code",
   "execution_count": 157,
   "metadata": {},
   "outputs": [
    {
     "ename": "NameError",
     "evalue": "name 'v' is not defined",
     "output_type": "error",
     "traceback": [
      "\u001b[1;31m---------------------------------------------------------------------------\u001b[0m",
      "\u001b[1;31mNameError\u001b[0m                                 Traceback (most recent call last)",
      "\u001b[1;32m<ipython-input-157-fb48fb259c02>\u001b[0m in \u001b[0;36m<module>\u001b[1;34m()\u001b[0m\n\u001b[1;32m----> 1\u001b[1;33m \u001b[1;32mfor\u001b[0m \u001b[0mn\u001b[0m \u001b[1;32min\u001b[0m \u001b[0mg\u001b[0m\u001b[1;33m.\u001b[0m\u001b[0mneighbors\u001b[0m\u001b[1;33m(\u001b[0m\u001b[0mv\u001b[0m\u001b[1;33m[\u001b[0m\u001b[1;34m'name'\u001b[0m\u001b[1;33m]\u001b[0m\u001b[1;33m)\u001b[0m\u001b[1;33m:\u001b[0m\u001b[1;33m\u001b[0m\u001b[0m\n\u001b[0m\u001b[0;32m      2\u001b[0m     \u001b[0mprint\u001b[0m\u001b[1;33m(\u001b[0m\u001b[0mg\u001b[0m\u001b[1;33m.\u001b[0m\u001b[0mdegree\u001b[0m\u001b[1;33m(\u001b[0m\u001b[0mn\u001b[0m\u001b[1;33m)\u001b[0m\u001b[1;33m)\u001b[0m\u001b[1;33m\u001b[0m\u001b[0m\n",
      "\u001b[1;31mNameError\u001b[0m: name 'v' is not defined"
     ]
    }
   ],
   "source": [
    "for v in g.vs:\n",
    "    for n in g.neighbors(v['name']):\n",
    "        print(g.degree(n))"
   ]
  },
  {
   "cell_type": "code",
   "execution_count": 47,
   "metadata": {},
   "outputs": [],
   "source": [
    "def knn(g, vertex):\n",
    "    return np.mean([g.degree(n) for n in g.neighbors(vertex)])"
   ]
  },
  {
   "cell_type": "code",
   "execution_count": 48,
   "metadata": {},
   "outputs": [
    {
     "data": {
      "text/plain": [
       "7.8"
      ]
     },
     "execution_count": 48,
     "metadata": {},
     "output_type": "execute_result"
    }
   ],
   "source": [
    "def knn_averaged(g, deg):\n",
    "    l = []\n",
    "    for v in g.vs:\n",
    "        if g"
   ]
  },
  {
   "cell_type": "code",
   "execution_count": 55,
   "metadata": {},
   "outputs": [
    {
     "data": {
      "text/plain": [
       "igraph.Vertex(<igraph.Graph object at 0x0000016515C8A8B8>, 0, {'name': '1'})"
      ]
     },
     "execution_count": 55,
     "metadata": {},
     "output_type": "execute_result"
    }
   ],
   "source": [
    "adolescent.vs[0]"
   ]
  },
  {
   "cell_type": "code",
   "execution_count": 53,
   "metadata": {},
   "outputs": [
    {
     "data": {
      "text/plain": [
       "1566.6363636363637"
      ]
     },
     "execution_count": 53,
     "metadata": {},
     "output_type": "execute_result"
    }
   ],
   "source": [
    "knn(jdk, 1000)"
   ]
  }
 ],
 "metadata": {
  "kernelspec": {
   "display_name": "Python 3",
   "language": "python",
   "name": "python3"
  },
  "language_info": {
   "codemirror_mode": {
    "name": "ipython",
    "version": 3
   },
   "file_extension": ".py",
   "mimetype": "text/x-python",
   "name": "python",
   "nbconvert_exporter": "python",
   "pygments_lexer": "ipython3",
   "version": "3.7.0"
  }
 },
 "nbformat": 4,
 "nbformat_minor": 2
}
