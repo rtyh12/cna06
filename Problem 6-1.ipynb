{
 "cells": [
  {
   "cell_type": "markdown",
   "metadata": {},
   "source": [
    "# Problem 6-1: Degree Correlations and Assortativity\n",
    "Submission from Maria Kagkeli, Maria Regina Lily, and Mihai Verzan"
   ]
  },
  {
   "cell_type": "code",
   "execution_count": 1,
   "metadata": {},
   "outputs": [],
   "source": [
    "import igraph as ig\n",
    "import numpy as np"
   ]
  },
  {
   "cell_type": "code",
   "execution_count": 38,
   "metadata": {},
   "outputs": [],
   "source": [
    "##assortativity_matrix from the third question\n",
    "\n",
    "def assortativity_matrix(g):\n",
    "    #initiate square matrix with dimension = max degree of graph\n",
    "    deg_max = max(g.degree())\n",
    "    E = np.zeros((deg_max, deg_max))\n",
    "    \n",
    "    #go through all nodes and check the degree of each node's neighbor. \n",
    "    #and increase the corresponding matrix element by 1\n",
    "    for v in g.vs:\n",
    "        for n in g.neighbors(v.index):\n",
    "            E[g.degree(v.index) - 1, g.degree(n) - 1] += 1\n",
    "    \n",
    "    #normalize matrix\n",
    "    E /= np.sum(E)\n",
    "    \n",
    "    return E"
   ]
  },
  {
   "cell_type": "code",
   "execution_count": 46,
   "metadata": {},
   "outputs": [
    {
     "name": "stdout",
     "output_type": "stream",
     "text": [
      "Degree Correlation Matrix: \n",
      "[[0.    0.    0.125]\n",
      " [0.    0.25  0.25 ]\n",
      " [0.125 0.25  0.   ]]\n"
     ]
    }
   ],
   "source": [
    "E = assortativity_matrix(g)\n",
    "print(\"Degree Correlation Matrix: \\n{}\".format(E))"
   ]
  },
  {
   "cell_type": "code",
   "execution_count": 48,
   "metadata": {},
   "outputs": [
    {
     "name": "stdout",
     "output_type": "stream",
     "text": [
      "q for each row of the matrix:\n",
      "[0.125, 0.5, 0.375]\n"
     ]
    }
   ],
   "source": [
    "q = [np.sum(E[i]) for i in range(3)]\n",
    "print(\"q for each row of the matrix:\\n{}\".format(q))"
   ]
  },
  {
   "cell_type": "code",
   "execution_count": 55,
   "metadata": {},
   "outputs": [
    {
     "name": "stdout",
     "output_type": "stream",
     "text": [
      "Degree Correlation from our calculations\t-0.7142857142857143\n"
     ]
    }
   ],
   "source": [
    "def sigma(q, k):\n",
    "   \n",
    "    s1 = 0\n",
    "    s2 = 0\n",
    "\n",
    "    for i in range(k):\n",
    "        s1 += (i+1)**2 * q[i] \n",
    "        s2 += (i+1)*q[i]\n",
    "    return s1 - s2**2\n",
    "    \n",
    "def degree_correlation_coeff(E, q):\n",
    "    r = 0\n",
    "    for k in range(E.shape[0]):\n",
    "        for j in range(E.shape[0]):\n",
    "        \n",
    "            r += ((j+1)*(k+1)*(E[j,k] - q[j]*q[k]))\n",
    "\n",
    "    return r/sigma(q,E.shape[0])\n",
    "\n",
    "print(\"Degree Correlation from our calculations\\t{}\".format(degree_correlation_coeff(E,q)))"
   ]
  },
  {
   "cell_type": "code",
   "execution_count": 56,
   "metadata": {},
   "outputs": [
    {
     "name": "stdout",
     "output_type": "stream",
     "text": [
      "Degree Correlation from igraph\t-0.7142857142857143\n"
     ]
    }
   ],
   "source": [
    "# assortativity coefficient from igraph to check our results\n",
    "g = ig.Graph()\n",
    "g.add_vertices(4)\n",
    "edges = [(0,1),(0,3),(1,2),(1,3)]\n",
    "g.add_edges(edges)\n",
    "\n",
    "coeff = g.assortativity_degree()\n",
    "print(\"Degree Correlation from igraph\\t{}\".format(coeff))"
   ]
  }
 ],
 "metadata": {
  "kernelspec": {
   "display_name": "Python 3",
   "language": "python",
   "name": "python3"
  },
  "language_info": {
   "codemirror_mode": {
    "name": "ipython",
    "version": 3
   },
   "file_extension": ".py",
   "mimetype": "text/x-python",
   "name": "python",
   "nbconvert_exporter": "python",
   "pygments_lexer": "ipython3",
   "version": "3.6.6"
  }
 },
 "nbformat": 4,
 "nbformat_minor": 2
}
